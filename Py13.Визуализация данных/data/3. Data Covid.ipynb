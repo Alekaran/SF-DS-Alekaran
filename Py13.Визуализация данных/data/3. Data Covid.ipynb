{
 "cells": [
  {
   "cell_type": "code",
   "execution_count": 22,
   "metadata": {},
   "outputs": [
    {
     "data": {
      "text/html": [
       "<div>\n",
       "<style scoped>\n",
       "    .dataframe tbody tr th:only-of-type {\n",
       "        vertical-align: middle;\n",
       "    }\n",
       "\n",
       "    .dataframe tbody tr th {\n",
       "        vertical-align: top;\n",
       "    }\n",
       "\n",
       "    .dataframe thead th {\n",
       "        text-align: right;\n",
       "    }\n",
       "</style>\n",
       "<table border=\"1\" class=\"dataframe\">\n",
       "  <thead>\n",
       "    <tr style=\"text-align: right;\">\n",
       "      <th></th>\n",
       "      <th>date</th>\n",
       "      <th>province/state</th>\n",
       "      <th>country</th>\n",
       "      <th>confirmed</th>\n",
       "      <th>deaths</th>\n",
       "      <th>recovered</th>\n",
       "    </tr>\n",
       "  </thead>\n",
       "  <tbody>\n",
       "    <tr>\n",
       "      <th>0</th>\n",
       "      <td>01/22/2020</td>\n",
       "      <td>Anhui</td>\n",
       "      <td>China</td>\n",
       "      <td>1.0</td>\n",
       "      <td>0.0</td>\n",
       "      <td>0.0</td>\n",
       "    </tr>\n",
       "    <tr>\n",
       "      <th>1</th>\n",
       "      <td>01/22/2020</td>\n",
       "      <td>Beijing</td>\n",
       "      <td>China</td>\n",
       "      <td>14.0</td>\n",
       "      <td>0.0</td>\n",
       "      <td>0.0</td>\n",
       "    </tr>\n",
       "    <tr>\n",
       "      <th>2</th>\n",
       "      <td>01/22/2020</td>\n",
       "      <td>Chongqing</td>\n",
       "      <td>China</td>\n",
       "      <td>6.0</td>\n",
       "      <td>0.0</td>\n",
       "      <td>0.0</td>\n",
       "    </tr>\n",
       "    <tr>\n",
       "      <th>3</th>\n",
       "      <td>01/22/2020</td>\n",
       "      <td>Fujian</td>\n",
       "      <td>China</td>\n",
       "      <td>1.0</td>\n",
       "      <td>0.0</td>\n",
       "      <td>0.0</td>\n",
       "    </tr>\n",
       "    <tr>\n",
       "      <th>4</th>\n",
       "      <td>01/22/2020</td>\n",
       "      <td>Gansu</td>\n",
       "      <td>China</td>\n",
       "      <td>0.0</td>\n",
       "      <td>0.0</td>\n",
       "      <td>0.0</td>\n",
       "    </tr>\n",
       "  </tbody>\n",
       "</table>\n",
       "</div>"
      ],
      "text/plain": [
       "         date province/state country  confirmed  deaths  recovered\n",
       "0  01/22/2020          Anhui   China        1.0     0.0        0.0\n",
       "1  01/22/2020        Beijing   China       14.0     0.0        0.0\n",
       "2  01/22/2020      Chongqing   China        6.0     0.0        0.0\n",
       "3  01/22/2020         Fujian   China        1.0     0.0        0.0\n",
       "4  01/22/2020          Gansu   China        0.0     0.0        0.0"
      ]
     },
     "execution_count": 22,
     "metadata": {},
     "output_type": "execute_result"
    }
   ],
   "source": [
    "import pandas as pd\n",
    "covid_data = pd.read_csv('covid_data.csv')\n",
    "covid_data.head()"
   ]
  },
  {
   "cell_type": "code",
   "execution_count": 23,
   "metadata": {},
   "outputs": [],
   "source": [
    "vaccinations_data = pd.read_csv('country_vaccinations.csv')\n",
    "vaccinations_data = vaccinations_data[\n",
    "    ['country', 'date', 'total_vaccinations', \n",
    "     'people_vaccinated', 'people_vaccinated_per_hundred',\n",
    "     'people_fully_vaccinated', 'people_fully_vaccinated_per_hundred',\n",
    "     'daily_vaccinations', 'vaccines']\n",
    "]"
   ]
  },
  {
   "cell_type": "code",
   "execution_count": 24,
   "metadata": {},
   "outputs": [
    {
     "data": {
      "text/plain": [
       "(86785, 5)"
      ]
     },
     "execution_count": 24,
     "metadata": {},
     "output_type": "execute_result"
    }
   ],
   "source": [
    "# группируем по дате и названию страны и рассчитываем пок-ли по регионам\n",
    "# т.е. переходим к данным по странам\n",
    "covid_data = covid_data.groupby(\n",
    "    ['date', 'country'], \n",
    "    as_index=False\n",
    ")[['confirmed', 'deaths', 'recovered']].sum()\n",
    "covid_data.shape"
   ]
  },
  {
   "cell_type": "code",
   "execution_count": 25,
   "metadata": {},
   "outputs": [],
   "source": [
    "# Преобразование в dt\n",
    "covid_data['date'] = pd.to_datetime(covid_data['date'])"
   ]
  },
  {
   "cell_type": "code",
   "execution_count": 26,
   "metadata": {},
   "outputs": [
    {
     "data": {
      "text/plain": [
       "(86785, 6)"
      ]
     },
     "execution_count": 26,
     "metadata": {},
     "output_type": "execute_result"
    }
   ],
   "source": [
    "# создадим признак больных на данный момент\n",
    "covid_data['active'] = covid_data['confirmed'] - covid_data['deaths'] - covid_data['recovered']\n",
    "covid_data.shape"
   ]
  },
  {
   "cell_type": "code",
   "execution_count": 27,
   "metadata": {},
   "outputs": [
    {
     "data": {
      "text/plain": [
       "(86785, 9)"
      ]
     },
     "execution_count": 27,
     "metadata": {},
     "output_type": "execute_result"
    }
   ],
   "source": [
    "# создадим признак ежедневного прироста числа заболевших, умреших и выздоровивших\n",
    "# Сортируем по названиям страны, затем по датам\n",
    "# Группируем по странам и рассчитаем разницу между \"вчера и сегодня\"\n",
    "covid_data = covid_data.sort_values(by=['country', 'date'])\n",
    "covid_data['daily_confirmed'] = covid_data.groupby('country')['confirmed'].diff()\n",
    "covid_data['daily_deaths'] = covid_data.groupby('country')['deaths'].diff()\n",
    "covid_data['daily_recovered'] = covid_data.groupby('country')['recovered'].diff()\n",
    "covid_data.shape"
   ]
  },
  {
   "cell_type": "code",
   "execution_count": 28,
   "metadata": {},
   "outputs": [
    {
     "data": {
      "text/html": [
       "<div>\n",
       "<style scoped>\n",
       "    .dataframe tbody tr th:only-of-type {\n",
       "        vertical-align: middle;\n",
       "    }\n",
       "\n",
       "    .dataframe tbody tr th {\n",
       "        vertical-align: top;\n",
       "    }\n",
       "\n",
       "    .dataframe thead th {\n",
       "        text-align: right;\n",
       "    }\n",
       "</style>\n",
       "<table border=\"1\" class=\"dataframe\">\n",
       "  <thead>\n",
       "    <tr style=\"text-align: right;\">\n",
       "      <th></th>\n",
       "      <th>date</th>\n",
       "      <th>country</th>\n",
       "      <th>confirmed</th>\n",
       "      <th>deaths</th>\n",
       "      <th>recovered</th>\n",
       "      <th>active</th>\n",
       "      <th>daily_confirmed</th>\n",
       "      <th>daily_deaths</th>\n",
       "      <th>daily_recovered</th>\n",
       "    </tr>\n",
       "  </thead>\n",
       "  <tbody>\n",
       "    <tr>\n",
       "      <th>15933</th>\n",
       "      <td>2020-03-12</td>\n",
       "      <td>occupied Palestinian territory</td>\n",
       "      <td>0.0</td>\n",
       "      <td>0.0</td>\n",
       "      <td>0.0</td>\n",
       "      <td>0.0</td>\n",
       "      <td>0.0</td>\n",
       "      <td>0.0</td>\n",
       "      <td>0.0</td>\n",
       "    </tr>\n",
       "    <tr>\n",
       "      <th>16595</th>\n",
       "      <td>2020-03-14</td>\n",
       "      <td>occupied Palestinian territory</td>\n",
       "      <td>0.0</td>\n",
       "      <td>0.0</td>\n",
       "      <td>0.0</td>\n",
       "      <td>0.0</td>\n",
       "      <td>0.0</td>\n",
       "      <td>0.0</td>\n",
       "      <td>0.0</td>\n",
       "    </tr>\n",
       "    <tr>\n",
       "      <th>16938</th>\n",
       "      <td>2020-03-15</td>\n",
       "      <td>occupied Palestinian territory</td>\n",
       "      <td>0.0</td>\n",
       "      <td>0.0</td>\n",
       "      <td>0.0</td>\n",
       "      <td>0.0</td>\n",
       "      <td>0.0</td>\n",
       "      <td>0.0</td>\n",
       "      <td>0.0</td>\n",
       "    </tr>\n",
       "    <tr>\n",
       "      <th>17290</th>\n",
       "      <td>2020-03-16</td>\n",
       "      <td>occupied Palestinian territory</td>\n",
       "      <td>0.0</td>\n",
       "      <td>0.0</td>\n",
       "      <td>0.0</td>\n",
       "      <td>0.0</td>\n",
       "      <td>0.0</td>\n",
       "      <td>0.0</td>\n",
       "      <td>0.0</td>\n",
       "    </tr>\n",
       "    <tr>\n",
       "      <th>17645</th>\n",
       "      <td>2020-03-17</td>\n",
       "      <td>occupied Palestinian territory</td>\n",
       "      <td>0.0</td>\n",
       "      <td>0.0</td>\n",
       "      <td>0.0</td>\n",
       "      <td>0.0</td>\n",
       "      <td>0.0</td>\n",
       "      <td>0.0</td>\n",
       "      <td>0.0</td>\n",
       "    </tr>\n",
       "  </tbody>\n",
       "</table>\n",
       "</div>"
      ],
      "text/plain": [
       "            date                         country  confirmed  deaths  \\\n",
       "15933 2020-03-12  occupied Palestinian territory        0.0     0.0   \n",
       "16595 2020-03-14  occupied Palestinian territory        0.0     0.0   \n",
       "16938 2020-03-15  occupied Palestinian territory        0.0     0.0   \n",
       "17290 2020-03-16  occupied Palestinian territory        0.0     0.0   \n",
       "17645 2020-03-17  occupied Palestinian territory        0.0     0.0   \n",
       "\n",
       "       recovered  active  daily_confirmed  daily_deaths  daily_recovered  \n",
       "15933        0.0     0.0              0.0           0.0              0.0  \n",
       "16595        0.0     0.0              0.0           0.0              0.0  \n",
       "16938        0.0     0.0              0.0           0.0              0.0  \n",
       "17290        0.0     0.0              0.0           0.0              0.0  \n",
       "17645        0.0     0.0              0.0           0.0              0.0  "
      ]
     },
     "execution_count": 28,
     "metadata": {},
     "output_type": "execute_result"
    }
   ],
   "source": [
    "covid_data.tail()"
   ]
  },
  {
   "cell_type": "code",
   "execution_count": 29,
   "metadata": {},
   "outputs": [],
   "source": [
    "vaccinations_data['date'] = pd.to_datetime(vaccinations_data['date'])"
   ]
  },
  {
   "cell_type": "code",
   "execution_count": 30,
   "metadata": {},
   "outputs": [
    {
     "data": {
      "text/plain": [
       "Timestamp('2021-05-29 00:00:00')"
      ]
     },
     "execution_count": 30,
     "metadata": {},
     "output_type": "execute_result"
    }
   ],
   "source": [
    "covid_data['date'].min()\n",
    "covid_data['date'].max()"
   ]
  },
  {
   "cell_type": "code",
   "execution_count": 31,
   "metadata": {},
   "outputs": [
    {
     "data": {
      "text/plain": [
       "(42795, 9)"
      ]
     },
     "execution_count": 31,
     "metadata": {},
     "output_type": "execute_result"
    }
   ],
   "source": [
    "# 8.2\n",
    "vaccinations_data['date'].min()\n",
    "vaccinations_data['date'].max()\n",
    "vaccinations_data.shape"
   ]
  },
  {
   "cell_type": "code",
   "execution_count": 32,
   "metadata": {},
   "outputs": [
    {
     "data": {
      "text/plain": [
       "(86785, 16)"
      ]
     },
     "execution_count": 32,
     "metadata": {},
     "output_type": "execute_result"
    }
   ],
   "source": [
    "# 8.3\n",
    "covid_df = covid_data.merge(\n",
    "    vaccinations_data,\n",
    "    on=['date', 'country'],\n",
    "    how='left'\n",
    ")\n",
    "covid_df.shape"
   ]
  },
  {
   "cell_type": "code",
   "execution_count": 36,
   "metadata": {},
   "outputs": [
    {
     "data": {
      "text/html": [
       "<div>\n",
       "<style scoped>\n",
       "    .dataframe tbody tr th:only-of-type {\n",
       "        vertical-align: middle;\n",
       "    }\n",
       "\n",
       "    .dataframe tbody tr th {\n",
       "        vertical-align: top;\n",
       "    }\n",
       "\n",
       "    .dataframe thead th {\n",
       "        text-align: right;\n",
       "    }\n",
       "</style>\n",
       "<table border=\"1\" class=\"dataframe\">\n",
       "  <thead>\n",
       "    <tr style=\"text-align: right;\">\n",
       "      <th></th>\n",
       "      <th>date</th>\n",
       "      <th>country</th>\n",
       "      <th>confirmed</th>\n",
       "      <th>deaths</th>\n",
       "      <th>recovered</th>\n",
       "      <th>active</th>\n",
       "      <th>daily_confirmed</th>\n",
       "      <th>daily_deaths</th>\n",
       "      <th>daily_recovered</th>\n",
       "      <th>total_vaccinations</th>\n",
       "      <th>people_vaccinated</th>\n",
       "      <th>people_vaccinated_per_hundred</th>\n",
       "      <th>people_fully_vaccinated</th>\n",
       "      <th>people_fully_vaccinated_per_hundred</th>\n",
       "      <th>daily_vaccinations</th>\n",
       "      <th>vaccines</th>\n",
       "      <th>death_rate</th>\n",
       "      <th>rocever_rate</th>\n",
       "      <th>recover_rate</th>\n",
       "    </tr>\n",
       "  </thead>\n",
       "  <tbody>\n",
       "    <tr>\n",
       "      <th>0</th>\n",
       "      <td>2020-02-24</td>\n",
       "      <td>Afghanistan</td>\n",
       "      <td>1.0</td>\n",
       "      <td>0.0</td>\n",
       "      <td>0.0</td>\n",
       "      <td>1.0</td>\n",
       "      <td>NaN</td>\n",
       "      <td>NaN</td>\n",
       "      <td>NaN</td>\n",
       "      <td>NaN</td>\n",
       "      <td>NaN</td>\n",
       "      <td>NaN</td>\n",
       "      <td>NaN</td>\n",
       "      <td>NaN</td>\n",
       "      <td>NaN</td>\n",
       "      <td>NaN</td>\n",
       "      <td>0.0</td>\n",
       "      <td>80.982417</td>\n",
       "      <td>0.0</td>\n",
       "    </tr>\n",
       "    <tr>\n",
       "      <th>1</th>\n",
       "      <td>2020-02-25</td>\n",
       "      <td>Afghanistan</td>\n",
       "      <td>1.0</td>\n",
       "      <td>0.0</td>\n",
       "      <td>0.0</td>\n",
       "      <td>1.0</td>\n",
       "      <td>0.0</td>\n",
       "      <td>0.0</td>\n",
       "      <td>0.0</td>\n",
       "      <td>NaN</td>\n",
       "      <td>NaN</td>\n",
       "      <td>NaN</td>\n",
       "      <td>NaN</td>\n",
       "      <td>NaN</td>\n",
       "      <td>NaN</td>\n",
       "      <td>NaN</td>\n",
       "      <td>0.0</td>\n",
       "      <td>57.675424</td>\n",
       "      <td>0.0</td>\n",
       "    </tr>\n",
       "    <tr>\n",
       "      <th>2</th>\n",
       "      <td>2020-02-26</td>\n",
       "      <td>Afghanistan</td>\n",
       "      <td>1.0</td>\n",
       "      <td>0.0</td>\n",
       "      <td>0.0</td>\n",
       "      <td>1.0</td>\n",
       "      <td>0.0</td>\n",
       "      <td>0.0</td>\n",
       "      <td>0.0</td>\n",
       "      <td>NaN</td>\n",
       "      <td>NaN</td>\n",
       "      <td>NaN</td>\n",
       "      <td>NaN</td>\n",
       "      <td>NaN</td>\n",
       "      <td>NaN</td>\n",
       "      <td>NaN</td>\n",
       "      <td>0.0</td>\n",
       "      <td>67.464488</td>\n",
       "      <td>0.0</td>\n",
       "    </tr>\n",
       "    <tr>\n",
       "      <th>3</th>\n",
       "      <td>2020-02-27</td>\n",
       "      <td>Afghanistan</td>\n",
       "      <td>1.0</td>\n",
       "      <td>0.0</td>\n",
       "      <td>0.0</td>\n",
       "      <td>1.0</td>\n",
       "      <td>0.0</td>\n",
       "      <td>0.0</td>\n",
       "      <td>0.0</td>\n",
       "      <td>NaN</td>\n",
       "      <td>NaN</td>\n",
       "      <td>NaN</td>\n",
       "      <td>NaN</td>\n",
       "      <td>NaN</td>\n",
       "      <td>NaN</td>\n",
       "      <td>NaN</td>\n",
       "      <td>0.0</td>\n",
       "      <td>91.942836</td>\n",
       "      <td>0.0</td>\n",
       "    </tr>\n",
       "    <tr>\n",
       "      <th>4</th>\n",
       "      <td>2020-02-28</td>\n",
       "      <td>Afghanistan</td>\n",
       "      <td>1.0</td>\n",
       "      <td>0.0</td>\n",
       "      <td>0.0</td>\n",
       "      <td>1.0</td>\n",
       "      <td>0.0</td>\n",
       "      <td>0.0</td>\n",
       "      <td>0.0</td>\n",
       "      <td>NaN</td>\n",
       "      <td>NaN</td>\n",
       "      <td>NaN</td>\n",
       "      <td>NaN</td>\n",
       "      <td>NaN</td>\n",
       "      <td>NaN</td>\n",
       "      <td>NaN</td>\n",
       "      <td>0.0</td>\n",
       "      <td>63.444900</td>\n",
       "      <td>0.0</td>\n",
       "    </tr>\n",
       "  </tbody>\n",
       "</table>\n",
       "</div>"
      ],
      "text/plain": [
       "        date      country  confirmed  deaths  recovered  active  \\\n",
       "0 2020-02-24  Afghanistan        1.0     0.0        0.0     1.0   \n",
       "1 2020-02-25  Afghanistan        1.0     0.0        0.0     1.0   \n",
       "2 2020-02-26  Afghanistan        1.0     0.0        0.0     1.0   \n",
       "3 2020-02-27  Afghanistan        1.0     0.0        0.0     1.0   \n",
       "4 2020-02-28  Afghanistan        1.0     0.0        0.0     1.0   \n",
       "\n",
       "   daily_confirmed  daily_deaths  daily_recovered  total_vaccinations  \\\n",
       "0              NaN           NaN              NaN                 NaN   \n",
       "1              0.0           0.0              0.0                 NaN   \n",
       "2              0.0           0.0              0.0                 NaN   \n",
       "3              0.0           0.0              0.0                 NaN   \n",
       "4              0.0           0.0              0.0                 NaN   \n",
       "\n",
       "   people_vaccinated  people_vaccinated_per_hundred  people_fully_vaccinated  \\\n",
       "0                NaN                            NaN                      NaN   \n",
       "1                NaN                            NaN                      NaN   \n",
       "2                NaN                            NaN                      NaN   \n",
       "3                NaN                            NaN                      NaN   \n",
       "4                NaN                            NaN                      NaN   \n",
       "\n",
       "   people_fully_vaccinated_per_hundred  daily_vaccinations vaccines  \\\n",
       "0                                  NaN                 NaN      NaN   \n",
       "1                                  NaN                 NaN      NaN   \n",
       "2                                  NaN                 NaN      NaN   \n",
       "3                                  NaN                 NaN      NaN   \n",
       "4                                  NaN                 NaN      NaN   \n",
       "\n",
       "   death_rate  rocever_rate  recover_rate  \n",
       "0         0.0     80.982417           0.0  \n",
       "1         0.0     57.675424           0.0  \n",
       "2         0.0     67.464488           0.0  \n",
       "3         0.0     91.942836           0.0  \n",
       "4         0.0     63.444900           0.0  "
      ]
     },
     "execution_count": 36,
     "metadata": {},
     "output_type": "execute_result"
    }
   ],
   "source": [
    "# создали признак летальности и процент выздоровления\n",
    "covid_df['death_rate'] = covid_df['deaths'] / covid_df['confirmed'] *100\n",
    "covid_df['recover_rate'] = covid_df['recovered'] / covid_df['confirmed'] *100\n",
    "covid_df.head()"
   ]
  },
  {
   "cell_type": "code",
   "execution_count": 37,
   "metadata": {},
   "outputs": [
    {
     "data": {
      "text/plain": [
       "7.19"
      ]
     },
     "execution_count": 37,
     "metadata": {},
     "output_type": "execute_result"
    }
   ],
   "source": [
    "# 8.4\n",
    "round(covid_df[covid_df['country']=='United States']['death_rate'].max(), 2)"
   ]
  },
  {
   "cell_type": "code",
   "execution_count": 38,
   "metadata": {},
   "outputs": [
    {
     "data": {
      "text/plain": [
       "67.06"
      ]
     },
     "execution_count": 38,
     "metadata": {},
     "output_type": "execute_result"
    }
   ],
   "source": [
    "# 8.5\n",
    "round(covid_df[covid_df['country']=='Russia']['recover_rate'].mean(),2)"
   ]
  }
 ],
 "metadata": {
  "kernelspec": {
   "display_name": "Python 3.9.10 64-bit",
   "language": "python",
   "name": "python3"
  },
  "language_info": {
   "codemirror_mode": {
    "name": "ipython",
    "version": 3
   },
   "file_extension": ".py",
   "mimetype": "text/x-python",
   "name": "python",
   "nbconvert_exporter": "python",
   "pygments_lexer": "ipython3",
   "version": "3.9.10"
  },
  "orig_nbformat": 4,
  "vscode": {
   "interpreter": {
    "hash": "4d181b88a5681332783464b335ffcae2a192662c591f914e6515f1b7dbb1ef53"
   }
  }
 },
 "nbformat": 4,
 "nbformat_minor": 2
}
