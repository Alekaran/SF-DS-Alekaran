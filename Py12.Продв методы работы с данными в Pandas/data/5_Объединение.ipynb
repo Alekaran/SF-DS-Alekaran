{
 "cells": [
  {
   "cell_type": "code",
   "execution_count": 5,
   "metadata": {},
   "outputs": [],
   "source": [
    "import pandas as pd\n",
    "dates = pd.read_csv('movie_lens/dates.csv')\n",
    "movies = pd.read_csv('movie_lens/movies.csv')\n",
    "ratings1 = pd.read_csv('movie_lens/ratings1.csv')\n",
    "ratings2 = pd.read_csv('movie_lens/ratings2.csv')\n",
    "\n",
    "dates['date'] = pd.to_datetime(dates['date'])"
   ]
  }
 ],
 "metadata": {
  "kernelspec": {
   "display_name": "Python 3.9.10 64-bit",
   "language": "python",
   "name": "python3"
  },
  "language_info": {
   "codemirror_mode": {
    "name": "ipython",
    "version": 3
   },
   "file_extension": ".py",
   "mimetype": "text/x-python",
   "name": "python",
   "nbconvert_exporter": "python",
   "pygments_lexer": "ipython3",
   "version": "3.9.10"
  },
  "orig_nbformat": 4,
  "vscode": {
   "interpreter": {
    "hash": "4d181b88a5681332783464b335ffcae2a192662c591f914e6515f1b7dbb1ef53"
   }
  }
 },
 "nbformat": 4,
 "nbformat_minor": 2
}
